{
 "cells": [
  {
   "cell_type": "markdown",
   "metadata": {},
   "source": [
    "# Automatic labelling of topics for United Nations General Debate Corpus (UNGDC) "
   ]
  },
  {
   "cell_type": "markdown",
   "metadata": {},
   "source": [
    "This program consists of two parts: First, the topics occurring in United Nations General Debate Corpus (UNGDC) are discovered. Second, the discovered topics are automatically labelled using the pipeline offered as part of the publication “Automatic labelling of topics using neural embeddings” by Bhatia et al in 2016.\n",
    "\n",
    "In the first part, using Gensim library in Python, an LDA model is trained on the corpus and semantic coherence measure is used to find an optimal number of topics. The program outputs the optimal number of topics along with their 10 most frequent words.\n",
    "\n",
    "In the second part, the discovered topic along with their 10 most frequent words is fed to the pipeline in a .csv file. Each line in the file contains the topic id (here: 0 to 10) along with top n (here 10) words. The path to this file is updated in get_labels.py.\n",
    "\n",
    "Finally, the get_labels.py should should be run by typing \"python get_labels.py -cg –us -s ” in the command prompt. It will give you candidate labels in a file with unsupervised and supervised labels printed on the console as well as in output files. By default output files namely output_candidates, output_unsupervised, and output_supervised will be created in the same directory.\n",
    "\n",
    "The only difference between this program and its earlier version is that in the first program, we use single words to topic model with LDA, but in this program we use bigrams and trigrams as well.\n",
    "\n",
    "As you will see in the end, the algorithm is not able to produce labels for topic 4."
   ]
  },
  {
   "cell_type": "markdown",
   "metadata": {},
   "source": [
    "# Import the required packages"
   ]
  },
  {
   "cell_type": "code",
   "execution_count": 5,
   "metadata": {},
   "outputs": [],
   "source": [
    "#Taken From:https://datascienceplus.com/evaluation-of-topic-modeling-topic-coherence/\n",
    "from pprint import pprint\n",
    "import numpy as np\n",
    "import os,re\n",
    "import pyLDAvis.gensim\n",
    "import warnings\n",
    "warnings.filterwarnings('ignore')  # To ignore all warnings that arise here to enhance clarity\n",
    "\n",
    "from gensim.models.coherencemodel import CoherenceModel\n",
    "from gensim.models.ldamodel import LdaModel\n",
    "from gensim.corpora.dictionary import Dictionary\n",
    "from numpy import array"
   ]
  },
  {
   "cell_type": "markdown",
   "metadata": {},
   "source": [
    "# Import the dataset\n"
   ]
  },
  {
   "cell_type": "code",
   "execution_count": 6,
   "metadata": {},
   "outputs": [
    {
     "name": "stdout",
     "output_type": "stream",
     "text": [
      "7871\n"
     ]
    }
   ],
   "source": [
    "docs=[]\n",
    "pattern='^[A-Z]{3}_[0-9]{2}_[0-9]{4}.txt$'\n",
    "path='D:/UN/UNGDC_1970-2017/Converted sessions/'\n",
    "for (dirname, dirs, files) in os.walk(path):\n",
    "   for filename in files:\n",
    "        thefile = os.path.join(dirname,filename)\n",
    "        with open (thefile,encoding='utf8',errors='ignore') as fin:\n",
    "             if re.match(pattern, filename):\n",
    "\n",
    "                doc=fin.read().strip('\\n\\t')\n",
    "                docs.append(doc)       \n",
    "print(len(docs))"
   ]
  },
  {
   "cell_type": "markdown",
   "metadata": {},
   "source": [
    "# Define a function for tokenizing and lemmatizing"
   ]
  },
  {
   "cell_type": "code",
   "execution_count": 7,
   "metadata": {
    "collapsed": true
   },
   "outputs": [],
   "source": [
    "from nltk.stem.wordnet import WordNetLemmatizer\n",
    "from nltk.tokenize import RegexpTokenizer\n",
    "\n",
    "def docs_preprocessor(docs):\n",
    "    tokenizer = RegexpTokenizer(r'\\w+')\n",
    "    for idx in range(len(docs)):\n",
    "        docs[idx] = docs[idx].lower()  # Convert to lowercase.\n",
    "        docs[idx] = tokenizer.tokenize(docs[idx])  # Split into words.\n",
    "\n",
    "    # Remove numbers, but not words that contain numbers.\n",
    "    docs = [[token for token in doc if not token.isdigit()] for doc in docs]\n",
    "    \n",
    "    # Remove words that are only one character.\n",
    "    docs = [[token for token in doc if len(token) > 3] for doc in docs]\n",
    "    \n",
    "    # Lemmatize all words in documents.\n",
    "    lemmatizer = WordNetLemmatizer()\n",
    "    docs = [[lemmatizer.lemmatize(token) for token in doc] for doc in docs]\n",
    "  \n",
    "    return docs\n",
    "# Perform function on our document\n",
    "docs = docs_preprocessor(docs)\n"
   ]
  },
  {
   "cell_type": "markdown",
   "metadata": {},
   "source": [
    "# Create Biagram & Trigram Models "
   ]
  },
  {
   "cell_type": "code",
   "execution_count": 8,
   "metadata": {
    "collapsed": true
   },
   "outputs": [],
   "source": [
    "from gensim.models import Phrases\n",
    "# Add bigrams and trigrams to docs,minimum count 10 means only that appear 10 times or more.\n",
    "bigram = Phrases(docs, min_count=10)\n",
    "trigram = Phrases(bigram[docs])\n",
    "\n",
    "for idx in range(len(docs)):\n",
    "    for token in bigram[docs[idx]]:\n",
    "        if '_' in token:\n",
    "            # Token is a bigram, add to document.\n",
    "            docs[idx].append(token)\n",
    "    for token in trigram[docs[idx]]:\n",
    "        if '_' in token:\n",
    "            # Token is a trigram, add to document.\n",
    "            docs[idx].append(token)\n"
   ]
  },
  {
   "cell_type": "markdown",
   "metadata": {},
   "source": [
    "# Remove rare & common tokens "
   ]
  },
  {
   "cell_type": "code",
   "execution_count": 9,
   "metadata": {},
   "outputs": [
    {
     "name": "stdout",
     "output_type": "stream",
     "text": [
      "Number of unique tokens: 41184\n",
      "Number of documents: 7871\n"
     ]
    }
   ],
   "source": [
    "# Create a dictionary representation of the documents.\n",
    "dictionary = Dictionary(docs)\n",
    "dictionary.filter_extremes(no_below=10, no_above=0.2)\n",
    "#Create dictionary and corpus required for Topic Modeling\n",
    "corpus = [dictionary.doc2bow(doc) for doc in docs]\n",
    "print('Number of unique tokens: %d' % len(dictionary))\n",
    "print('Number of documents: %d' % len(corpus))"
   ]
  },
  {
   "cell_type": "markdown",
   "metadata": {},
   "source": [
    "# Build The Model"
   ]
  },
  {
   "cell_type": "code",
   "execution_count": 10,
   "metadata": {},
   "outputs": [
    {
     "name": "stdout",
     "output_type": "stream",
     "text": [
      "[(0, '0.002*\"latin_american\" + 0.002*\"central_america\" + 0.002*\"united_kingdom\" + 0.002*\"central_american\" + 0.002*\"young_people\" + 0.002*\"natural_resource\" + 0.002*\"this_rostrum\" + 0.002*\"costa_rica\" + 0.002*\"rather_than\" + 0.001*\"this_hall\"'), (1, '0.006*\"african_union\" + 0.006*\"democratic_republic\" + 0.005*\"central_african\" + 0.005*\"least_developed\" + 0.003*\"caribbean\" + 0.003*\"sierra_leone\" + 0.003*\"guinea_bissau\" + 0.003*\"african_continent\" + 0.002*\"guinea\" + 0.002*\"western_sahara\"'), (2, '0.008*\"republic_korea\" + 0.008*\"soviet_union\" + 0.005*\"korean_peninsula\" + 0.003*\"korean\" + 0.003*\"foreign_policy\" + 0.003*\"south_east\" + 0.003*\"republic_moldova\" + 0.003*\"central_asia\" + 0.003*\"east_west\" + 0.003*\"peace_keeping\"'), (3, '0.003*\"third_world\" + 0.003*\"south_african\" + 0.002*\"arab_emirate\" + 0.002*\"islamic\" + 0.002*\"islamic_republic\" + 0.002*\"right_self\" + 0.002*\"cyprus\" + 0.002*\"legitimate_right\" + 0.002*\"yemen\" + 0.002*\"just_lasting\"'), (4, '0.005*\"european_union\" + 0.003*\"small_island\" + 0.003*\"millennium_development\" + 0.002*\"twenty_first\" + 0.002*\"around_world\" + 0.002*\"agenda_sustainable\" + 0.002*\"next_year\" + 0.002*\"civil_society\" + 0.002*\"pacific\" + 0.002*\"good_governance\"')]\n"
     ]
    }
   ],
   "source": [
    "# Set parameters.\n",
    "num_topics = 5\n",
    "chunksize = 500 \n",
    "passes = 20 \n",
    "iterations = 400\n",
    "eval_every = 1  \n",
    "\n",
    "# Make a index to word dictionary.\n",
    "temp = dictionary[0]  # only to \"load\" the dictionary.\n",
    "id2word = dictionary.id2token\n",
    "\n",
    "lda_model = LdaModel(corpus=corpus, id2word=id2word, chunksize=chunksize, \\\n",
    "                       alpha='auto', eta='auto', \\\n",
    "                       iterations=iterations, num_topics=num_topics, \\\n",
    "                       passes=passes, eval_every=eval_every)\n",
    "# Print the Keyword in the 5 topics\n",
    "print(lda_model.print_topics())"
   ]
  },
  {
   "cell_type": "markdown",
   "metadata": {},
   "source": [
    "# Find the optimal number of topics"
   ]
  },
  {
   "cell_type": "code",
   "execution_count": 11,
   "metadata": {
    "collapsed": true
   },
   "outputs": [],
   "source": [
    "#Using c_v Measure\n",
    "def compute_coherence_values(dictionary, corpus, texts, limit, start=10, step=5):\n",
    "    \"\"\"\n",
    "    Compute c_v coherence for various number of topics\n",
    "\n",
    "    Parameters:\n",
    "    ----------\n",
    "    dictionary : Gensim dictionary\n",
    "    corpus : Gensim corpus\n",
    "    texts : List of input texts\n",
    "    limit : Max num of topics\n",
    "\n",
    "    Returns:\n",
    "    -------\n",
    "    model_list : List of LDA topic models\n",
    "    coherence_values : Coherence values corresponding to the LDA model with respective number of topics\n",
    "    \"\"\"\n",
    "    coherence_values = []\n",
    "    model_list = []\n",
    "    for num_topics in range(start, limit, step):\n",
    "        model=LdaModel(corpus=corpus, id2word=dictionary, num_topics=num_topics)\n",
    "        model_list.append(model)\n",
    "        coherencemodel = CoherenceModel(model=model, texts=texts, dictionary=dictionary, coherence='c_v')\n",
    "        coherence_values.append(coherencemodel.get_coherence())\n",
    "\n",
    "    return model_list, coherence_values\n"
   ]
  },
  {
   "cell_type": "markdown",
   "metadata": {},
   "source": [
    "# Create a model list and plot Coherence score against a number of topics"
   ]
  },
  {
   "cell_type": "code",
   "execution_count": 12,
   "metadata": {},
   "outputs": [
    {
     "data": {
      "image/png": "[encoded data removed]",
      "text/plain": [
       "<matplotlib.figure.Figure at 0x3404cf60>"
      ]
     },
     "metadata": {},
     "output_type": "display_data"
    }
   ],
   "source": [
    "model_list, coherence_values = compute_coherence_values(dictionary=dictionary, corpus=corpus, texts=docs, start=10, limit=30, step=5)\n",
    "# Show graph\n",
    "import matplotlib.pyplot as plt\n",
    "limit=30; start=10; step=5;\n",
    "x = range(start, limit, step)\n",
    "plt.plot(x, coherence_values)\n",
    "plt.xlabel(\"Num Topics\")\n",
    "plt.ylabel(\"Coherence score\")\n",
    "plt.legend((\"coherence_values\"), loc='best')\n",
    "plt.show()"
   ]
  },
  {
   "cell_type": "code",
   "execution_count": 13,
   "metadata": {},
   "outputs": [
    {
     "name": "stdout",
     "output_type": "stream",
     "text": [
      "Num Topics = 10  has Coherence Value of 0.423\n",
      "Num Topics = 15  has Coherence Value of 0.3896\n",
      "Num Topics = 20  has Coherence Value of 0.3752\n",
      "Num Topics = 25  has Coherence Value of 0.4056\n"
     ]
    }
   ],
   "source": [
    "# Print the coherence scores\n",
    "for m, cv in zip(x, coherence_values):\n",
    "    print(\"Num Topics =\", m, \" has Coherence Value of\", round(cv, 4))"
   ]
  },
  {
   "cell_type": "markdown",
   "metadata": {},
   "source": [
    "# Selecting The Optimal Model"
   ]
  },
  {
   "cell_type": "code",
   "execution_count": 14,
   "metadata": {
    "collapsed": true
   },
   "outputs": [],
   "source": [
    "#finding the number of topics that gives the highest Coherence Value \n",
    "max_cv=max(coherence_values)\n",
    "#finding the index of the model with this numnber of topics\n",
    "index_model=coherence_values.index(max_cv)\n",
    "#print(index_model)\n",
    "# Select the model and print the topics \n",
    "optimal_model = model_list[index_model]\n",
    "model_topics = optimal_model.show_topics(formatted=False)\n",
    "#pprint(optimal_model.print_topics(num_words=10))"
   ]
  },
  {
   "cell_type": "markdown",
   "metadata": {
    "collapsed": true
   },
   "source": [
    "# Writing the topics along with the 10 most frequent words in a file"
   ]
  },
  {
   "cell_type": "code",
   "execution_count": 15,
   "metadata": {
    "collapsed": true
   },
   "outputs": [],
   "source": [
    "import re\n",
    "with open('D:/UN/Topics_UN_B.csv','w') as fw:\n",
    "    fw.write(\"topic_id,term0,term1,term2,term3,term4,term5,term6,term7,term8,term9\"+\"\\n\")\n",
    "    for i in optimal_model.print_topics():\n",
    "        r1 = re.findall(r\"\\w+\",i[1])\n",
    "        line=str(i[0])\n",
    "        for item in r1:\n",
    "            if not item.isdigit():\n",
    "                line=line+','+item\n",
    "        fw.write(line+'\\n')"
   ]
  },
  {
   "cell_type": "markdown",
   "metadata": {},
   "source": [
    "# Displaying the file"
   ]
  },
  {
   "cell_type": "code",
   "execution_count": 16,
   "metadata": {},
   "outputs": [
    {
     "data": {
      "text/html": [
       "<div>\n",
       "<style scoped>\n",
       "    .dataframe tbody tr th:only-of-type {\n",
       "        vertical-align: middle;\n",
       "    }\n",
       "\n",
       "    .dataframe tbody tr th {\n",
       "        vertical-align: top;\n",
       "    }\n",
       "\n",
       "    .dataframe thead th {\n",
       "        text-align: right;\n",
       "    }\n",
       "</style>\n",
       "<table border=\"1\" class=\"dataframe\">\n",
       "  <thead>\n",
       "    <tr style=\"text-align: right;\">\n",
       "      <th></th>\n",
       "      <th>topic_id</th>\n",
       "      <th>term0</th>\n",
       "      <th>term1</th>\n",
       "      <th>term2</th>\n",
       "      <th>term3</th>\n",
       "      <th>term4</th>\n",
       "      <th>term5</th>\n",
       "      <th>term6</th>\n",
       "      <th>term7</th>\n",
       "      <th>term8</th>\n",
       "      <th>term9</th>\n",
       "    </tr>\n",
       "  </thead>\n",
       "  <tbody>\n",
       "    <tr>\n",
       "      <th>0</th>\n",
       "      <td>0</td>\n",
       "      <td>trinidad_tobago</td>\n",
       "      <td>peace_keeping</td>\n",
       "      <td>least_developed</td>\n",
       "      <td>trinidad</td>\n",
       "      <td>tobago</td>\n",
       "      <td>african_union</td>\n",
       "      <td>third_world</td>\n",
       "      <td>european_union</td>\n",
       "      <td>somalia</td>\n",
       "      <td>peaceful_settlement</td>\n",
       "    </tr>\n",
       "    <tr>\n",
       "      <th>1</th>\n",
       "      <td>1</td>\n",
       "      <td>small_island</td>\n",
       "      <td>solomon_island</td>\n",
       "      <td>millennium_development</td>\n",
       "      <td>caribbean</td>\n",
       "      <td>least_developed</td>\n",
       "      <td>developing_state</td>\n",
       "      <td>natural_disaster</td>\n",
       "      <td>saint_lucia</td>\n",
       "      <td>most_vulnerable</td>\n",
       "      <td>african_union</td>\n",
       "    </tr>\n",
       "    <tr>\n",
       "      <th>2</th>\n",
       "      <td>2</td>\n",
       "      <td>pacific</td>\n",
       "      <td>republic_korea</td>\n",
       "      <td>japan</td>\n",
       "      <td>pacific_island</td>\n",
       "      <td>papua_guinea</td>\n",
       "      <td>small_island</td>\n",
       "      <td>burkina_faso</td>\n",
       "      <td>north_korea</td>\n",
       "      <td>millennium_development</td>\n",
       "      <td>timor_leste</td>\n",
       "    </tr>\n",
       "    <tr>\n",
       "      <th>3</th>\n",
       "      <td>3</td>\n",
       "      <td>republic_korea</td>\n",
       "      <td>central_asia</td>\n",
       "      <td>republic_moldova</td>\n",
       "      <td>korean_peninsula</td>\n",
       "      <td>equatorial_guinea</td>\n",
       "      <td>guinea</td>\n",
       "      <td>european_union</td>\n",
       "      <td>guinea_bissau</td>\n",
       "      <td>foreign_policy</td>\n",
       "      <td>kosovo</td>\n",
       "    </tr>\n",
       "    <tr>\n",
       "      <th>4</th>\n",
       "      <td>4</td>\n",
       "      <td>european_union</td>\n",
       "      <td>african_union</td>\n",
       "      <td>good_governance</td>\n",
       "      <td>around_world</td>\n",
       "      <td>millennium_development</td>\n",
       "      <td>twenty_first</td>\n",
       "      <td>bosnia_herzegovina</td>\n",
       "      <td>armed_conflict</td>\n",
       "      <td>civil_society</td>\n",
       "      <td>peacekeeping_operation</td>\n",
       "    </tr>\n",
       "    <tr>\n",
       "      <th>5</th>\n",
       "      <td>5</td>\n",
       "      <td>central_america</td>\n",
       "      <td>sierra_leone</td>\n",
       "      <td>latin_american</td>\n",
       "      <td>costa_rica</td>\n",
       "      <td>central_american</td>\n",
       "      <td>drug_trafficking</td>\n",
       "      <td>democratic_republic</td>\n",
       "      <td>cuba</td>\n",
       "      <td>young_people</td>\n",
       "      <td>natural_resource</td>\n",
       "    </tr>\n",
       "    <tr>\n",
       "      <th>6</th>\n",
       "      <td>6</td>\n",
       "      <td>guinea_bissau</td>\n",
       "      <td>guinea</td>\n",
       "      <td>democratic_republic</td>\n",
       "      <td>third_world</td>\n",
       "      <td>papua_guinea</td>\n",
       "      <td>south_african</td>\n",
       "      <td>chad</td>\n",
       "      <td>bissau</td>\n",
       "      <td>western_sahara</td>\n",
       "      <td>comoros</td>\n",
       "    </tr>\n",
       "    <tr>\n",
       "      <th>7</th>\n",
       "      <td>7</td>\n",
       "      <td>syria</td>\n",
       "      <td>chemical_weapon</td>\n",
       "      <td>islamic_republic</td>\n",
       "      <td>islamic</td>\n",
       "      <td>antigua_barbuda</td>\n",
       "      <td>soviet_union</td>\n",
       "      <td>egypt</td>\n",
       "      <td>weapon_mass</td>\n",
       "      <td>foreign_policy</td>\n",
       "      <td>third_world</td>\n",
       "    </tr>\n",
       "    <tr>\n",
       "      <th>8</th>\n",
       "      <td>8</td>\n",
       "      <td>south_sudan</td>\n",
       "      <td>arab_emirate</td>\n",
       "      <td>syria</td>\n",
       "      <td>syrian</td>\n",
       "      <td>call_upon</td>\n",
       "      <td>pakistan</td>\n",
       "      <td>sudan</td>\n",
       "      <td>weapon_mass</td>\n",
       "      <td>yemen</td>\n",
       "      <td>islamic</td>\n",
       "    </tr>\n",
       "    <tr>\n",
       "      <th>9</th>\n",
       "      <td>9</td>\n",
       "      <td>central_african</td>\n",
       "      <td>democratic_republic</td>\n",
       "      <td>morocco</td>\n",
       "      <td>soviet_union</td>\n",
       "      <td>third_world</td>\n",
       "      <td>cyprus</td>\n",
       "      <td>african_union</td>\n",
       "      <td>kingdom_morocco</td>\n",
       "      <td>foreign_policy</td>\n",
       "      <td>take_into</td>\n",
       "    </tr>\n",
       "  </tbody>\n",
       "</table>\n",
       "</div>"
      ],
      "text/plain": [
       "   topic_id            term0                term1                   term2  \\\n",
       "0         0  trinidad_tobago        peace_keeping         least_developed   \n",
       "1         1     small_island       solomon_island  millennium_development   \n",
       "2         2          pacific       republic_korea                   japan   \n",
       "3         3   republic_korea         central_asia        republic_moldova   \n",
       "4         4   european_union        african_union         good_governance   \n",
       "5         5  central_america         sierra_leone          latin_american   \n",
       "6         6    guinea_bissau               guinea     democratic_republic   \n",
       "7         7            syria      chemical_weapon        islamic_republic   \n",
       "8         8      south_sudan         arab_emirate                   syria   \n",
       "9         9  central_african  democratic_republic                 morocco   \n",
       "\n",
       "              term3                   term4             term5  \\\n",
       "0          trinidad                  tobago     african_union   \n",
       "1         caribbean         least_developed  developing_state   \n",
       "2    pacific_island            papua_guinea      small_island   \n",
       "3  korean_peninsula       equatorial_guinea            guinea   \n",
       "4      around_world  millennium_development      twenty_first   \n",
       "5        costa_rica        central_american  drug_trafficking   \n",
       "6       third_world            papua_guinea     south_african   \n",
       "7           islamic         antigua_barbuda      soviet_union   \n",
       "8            syrian               call_upon          pakistan   \n",
       "9      soviet_union             third_world            cyprus   \n",
       "\n",
       "                 term6            term7                   term8  \\\n",
       "0          third_world   european_union                 somalia   \n",
       "1     natural_disaster      saint_lucia         most_vulnerable   \n",
       "2         burkina_faso      north_korea  millennium_development   \n",
       "3       european_union    guinea_bissau          foreign_policy   \n",
       "4   bosnia_herzegovina   armed_conflict           civil_society   \n",
       "5  democratic_republic             cuba            young_people   \n",
       "6                 chad           bissau          western_sahara   \n",
       "7                egypt      weapon_mass          foreign_policy   \n",
       "8                sudan      weapon_mass                   yemen   \n",
       "9        african_union  kingdom_morocco          foreign_policy   \n",
       "\n",
       "                    term9  \n",
       "0     peaceful_settlement  \n",
       "1           african_union  \n",
       "2             timor_leste  \n",
       "3                  kosovo  \n",
       "4  peacekeeping_operation  \n",
       "5        natural_resource  \n",
       "6                 comoros  \n",
       "7             third_world  \n",
       "8                 islamic  \n",
       "9               take_into  "
      ]
     },
     "metadata": {},
     "output_type": "display_data"
    }
   ],
   "source": [
    "from IPython.display import display\n",
    "import pandas\n",
    "df = pandas.read_csv(\"D:/UN/Topics_UN_B.csv\")\n",
    "display(df)"
   ]
  },
  {
   "cell_type": "markdown",
   "metadata": {
    "collapsed": true
   },
   "source": [
    "# The file is fed to the paper's model and the unsupervised Labels are:"
   ]
  },
  {
   "cell_type": "code",
   "execution_count": 20,
   "metadata": {},
   "outputs": [
    {
     "data": {
      "text/html": [
       "<div>\n",
       "<style scoped>\n",
       "    .dataframe tbody tr th:only-of-type {\n",
       "        vertical-align: middle;\n",
       "    }\n",
       "\n",
       "    .dataframe tbody tr th {\n",
       "        vertical-align: top;\n",
       "    }\n",
       "\n",
       "    .dataframe thead th {\n",
       "        text-align: right;\n",
       "    }\n",
       "</style>\n",
       "<table border=\"1\" class=\"dataframe\">\n",
       "  <thead>\n",
       "    <tr style=\"text-align: right;\">\n",
       "      <th></th>\n",
       "      <th>Topic_id</th>\n",
       "      <th>Label_1</th>\n",
       "      <th>Label_2</th>\n",
       "      <th>Label_3</th>\n",
       "    </tr>\n",
       "  </thead>\n",
       "  <tbody>\n",
       "    <tr>\n",
       "      <th>0</th>\n",
       "      <td>0</td>\n",
       "      <td>dominica</td>\n",
       "      <td>jamaica</td>\n",
       "      <td>caribbean</td>\n",
       "    </tr>\n",
       "    <tr>\n",
       "      <th>1</th>\n",
       "      <td>1</td>\n",
       "      <td>turks_and_caicos_islands</td>\n",
       "      <td>saint_kitts_and_nevis</td>\n",
       "      <td>saint_kitts</td>\n",
       "    </tr>\n",
       "    <tr>\n",
       "      <th>2</th>\n",
       "      <td>2</td>\n",
       "      <td>marshall_islands</td>\n",
       "      <td>korea</td>\n",
       "      <td>okinawa_island</td>\n",
       "    </tr>\n",
       "    <tr>\n",
       "      <th>3</th>\n",
       "      <td>3</td>\n",
       "      <td>central_african_republic</td>\n",
       "      <td>liberia</td>\n",
       "      <td>mauritania</td>\n",
       "    </tr>\n",
       "    <tr>\n",
       "      <th>4</th>\n",
       "      <td>4</td>\n",
       "      <td>NaN</td>\n",
       "      <td>NaN</td>\n",
       "      <td>NaN</td>\n",
       "    </tr>\n",
       "    <tr>\n",
       "      <th>5</th>\n",
       "      <td>5</td>\n",
       "      <td>central_america</td>\n",
       "      <td>latin_america</td>\n",
       "      <td>south_america</td>\n",
       "    </tr>\n",
       "    <tr>\n",
       "      <th>6</th>\n",
       "      <td>6</td>\n",
       "      <td>guinea-bissau</td>\n",
       "      <td>equatorial_guinea</td>\n",
       "      <td>central_african_republic</td>\n",
       "    </tr>\n",
       "    <tr>\n",
       "      <th>7</th>\n",
       "      <td>7</td>\n",
       "      <td>islamic_state</td>\n",
       "      <td>islamism</td>\n",
       "      <td>islamic_fundamentalism</td>\n",
       "    </tr>\n",
       "    <tr>\n",
       "      <th>8</th>\n",
       "      <td>8</td>\n",
       "      <td>sudan</td>\n",
       "      <td>syrian_civil_war</td>\n",
       "      <td>yemen</td>\n",
       "    </tr>\n",
       "    <tr>\n",
       "      <th>9</th>\n",
       "      <td>9</td>\n",
       "      <td>central_african_republic</td>\n",
       "      <td>africa</td>\n",
       "      <td>tunisia</td>\n",
       "    </tr>\n",
       "  </tbody>\n",
       "</table>\n",
       "</div>"
      ],
      "text/plain": [
       "   Topic_id                   Label_1                Label_2  \\\n",
       "0         0                  dominica                jamaica   \n",
       "1         1  turks_and_caicos_islands  saint_kitts_and_nevis   \n",
       "2         2          marshall_islands                  korea   \n",
       "3         3  central_african_republic                liberia   \n",
       "4         4                       NaN                    NaN   \n",
       "5         5           central_america          latin_america   \n",
       "6         6             guinea-bissau      equatorial_guinea   \n",
       "7         7             islamic_state               islamism   \n",
       "8         8                     sudan       syrian_civil_war   \n",
       "9         9  central_african_republic                 africa   \n",
       "\n",
       "                    Label_3  \n",
       "0                 caribbean  \n",
       "1               saint_kitts  \n",
       "2            okinawa_island  \n",
       "3                mauritania  \n",
       "4                       NaN  \n",
       "5             south_america  \n",
       "6  central_african_republic  \n",
       "7    islamic_fundamentalism  \n",
       "8                     yemen  \n",
       "9                   tunisia  "
      ]
     },
     "metadata": {},
     "output_type": "display_data"
    }
   ],
   "source": [
    "#The Labels are saved into a file named output_unsupervised23.txt\n",
    "#The following code changes the file into CSV format to be shown here\n",
    "with open(\"d:/UN/output_unsupervised23.txt\") as fi:\n",
    "    content=fi.read().strip().split(\"top 3 labels for topic\")\n",
    "\n",
    "with open (\"d:/UN/Labels_un\",\"w\") as fw:\n",
    "    fw.write(\"Topic_id,Label_1,Label_2,Label_3\"+'\\n')\n",
    "    Topic_id=0\n",
    "    for i in content:\n",
    "       i=i.split('\\n')\n",
    "       if len(i)>3:         \n",
    "         fw.write(str(Topic_id)+','+i[1]+','+i[2]+','+i[3]+'\\n')\n",
    "         Topic_id+=1\n",
    "    \n",
    "df = pandas.read_csv(\"d:/UN/Labels_un\")\n",
    "display(df)"
   ]
  },
  {
   "cell_type": "markdown",
   "metadata": {},
   "source": [
    "As you can see the paper's algorithm is not able to produce labels for topic 4."
   ]
  },
  {
   "cell_type": "markdown",
   "metadata": {
    "collapsed": true
   },
   "source": [
    "# The file is fed to the paper's model and the supervised Labels are:"
   ]
  },
  {
   "cell_type": "code",
   "execution_count": 23,
   "metadata": {},
   "outputs": [
    {
     "data": {
      "text/html": [
       "<div>\n",
       "<style scoped>\n",
       "    .dataframe tbody tr th:only-of-type {\n",
       "        vertical-align: middle;\n",
       "    }\n",
       "\n",
       "    .dataframe tbody tr th {\n",
       "        vertical-align: top;\n",
       "    }\n",
       "\n",
       "    .dataframe thead th {\n",
       "        text-align: right;\n",
       "    }\n",
       "</style>\n",
       "<table border=\"1\" class=\"dataframe\">\n",
       "  <thead>\n",
       "    <tr style=\"text-align: right;\">\n",
       "      <th></th>\n",
       "      <th>Topic_id</th>\n",
       "      <th>Label_1</th>\n",
       "      <th>Label_2</th>\n",
       "      <th>Label_3</th>\n",
       "    </tr>\n",
       "  </thead>\n",
       "  <tbody>\n",
       "    <tr>\n",
       "      <th>0</th>\n",
       "      <td>0</td>\n",
       "      <td>jamaica</td>\n",
       "      <td>dominica</td>\n",
       "      <td>caribbean</td>\n",
       "    </tr>\n",
       "    <tr>\n",
       "      <th>1</th>\n",
       "      <td>1</td>\n",
       "      <td>turks_and_caicos_islands</td>\n",
       "      <td>saint_kitts_and_nevis</td>\n",
       "      <td>guadeloupe</td>\n",
       "    </tr>\n",
       "    <tr>\n",
       "      <th>2</th>\n",
       "      <td>2</td>\n",
       "      <td>marshall_islands</td>\n",
       "      <td>korea</td>\n",
       "      <td>south_korea</td>\n",
       "    </tr>\n",
       "    <tr>\n",
       "      <th>3</th>\n",
       "      <td>3</td>\n",
       "      <td>sudan</td>\n",
       "      <td>liberia</td>\n",
       "      <td>sierra_leone</td>\n",
       "    </tr>\n",
       "    <tr>\n",
       "      <th>4</th>\n",
       "      <td>4</td>\n",
       "      <td>NaN</td>\n",
       "      <td>NaN</td>\n",
       "      <td>NaN</td>\n",
       "    </tr>\n",
       "    <tr>\n",
       "      <th>5</th>\n",
       "      <td>5</td>\n",
       "      <td>south_america</td>\n",
       "      <td>central_america</td>\n",
       "      <td>latin_america</td>\n",
       "    </tr>\n",
       "    <tr>\n",
       "      <th>6</th>\n",
       "      <td>6</td>\n",
       "      <td>equatorial_guinea</td>\n",
       "      <td>guinea-bissau</td>\n",
       "      <td>central_african_republic</td>\n",
       "    </tr>\n",
       "    <tr>\n",
       "      <th>7</th>\n",
       "      <td>7</td>\n",
       "      <td>egypt</td>\n",
       "      <td>syria</td>\n",
       "      <td>islamic_state</td>\n",
       "    </tr>\n",
       "    <tr>\n",
       "      <th>8</th>\n",
       "      <td>8</td>\n",
       "      <td>sudan</td>\n",
       "      <td>yemen</td>\n",
       "      <td>syrian_civil_war</td>\n",
       "    </tr>\n",
       "    <tr>\n",
       "      <th>9</th>\n",
       "      <td>9</td>\n",
       "      <td>africa</td>\n",
       "      <td>tunisia</td>\n",
       "      <td>ethiopia</td>\n",
       "    </tr>\n",
       "  </tbody>\n",
       "</table>\n",
       "</div>"
      ],
      "text/plain": [
       "   Topic_id                   Label_1                Label_2  \\\n",
       "0         0                   jamaica               dominica   \n",
       "1         1  turks_and_caicos_islands  saint_kitts_and_nevis   \n",
       "2         2          marshall_islands                  korea   \n",
       "3         3                     sudan                liberia   \n",
       "4         4                       NaN                    NaN   \n",
       "5         5             south_america        central_america   \n",
       "6         6         equatorial_guinea          guinea-bissau   \n",
       "7         7                     egypt                  syria   \n",
       "8         8                     sudan                  yemen   \n",
       "9         9                    africa                tunisia   \n",
       "\n",
       "                    Label_3  \n",
       "0                 caribbean  \n",
       "1                guadeloupe  \n",
       "2               south_korea  \n",
       "3              sierra_leone  \n",
       "4                       NaN  \n",
       "5             latin_america  \n",
       "6  central_african_republic  \n",
       "7             islamic_state  \n",
       "8          syrian_civil_war  \n",
       "9                  ethiopia  "
      ]
     },
     "metadata": {},
     "output_type": "display_data"
    }
   ],
   "source": [
    "#The Labels are saved into a file named output_supervised23.txt\n",
    "#The following code changes the file into CSV format to be shown here\n",
    "with open(\"d:/UN/output_supervised23.txt\") as fi:\n",
    "    content=fi.read().strip().split(\"Top 3 labels for topic\")\n",
    "\n",
    "with open (\"d:/UN/Labels_su\",\"w\") as fw:\n",
    "    fw.write(\"Topic_id,Label_1,Label_2,Label_3\"+'\\n')\n",
    "    Topic_id=0\n",
    "    for i in content:\n",
    "       i=i.split('\\n')\n",
    "       if len(i)>3:         \n",
    "         fw.write(str(Topic_id)+','+i[1]+','+i[2]+','+i[3]+'\\n')\n",
    "         Topic_id+=1\n",
    "    \n",
    "df = pandas.read_csv(\"d:/UN/Labels_su\")\n",
    "display(df)"
   ]
  },
  {
   "cell_type": "markdown",
   "metadata": {},
   "source": [
    "As you can see the paper's algorithm is not able to produce labels for topic 4."
   ]
  }
 ],
 "metadata": {
  "kernelspec": {
   "display_name": "Python 3",
   "language": "python",
   "name": "python3"
  },
  "language_info": {
   "codemirror_mode": {
    "name": "ipython",
    "version": 3
   },
   "file_extension": ".py",
   "mimetype": "text/x-python",
   "name": "python",
   "nbconvert_exporter": "python",
   "pygments_lexer": "ipython3",
   "version": "3.6.3"
  }
 },
 "nbformat": 4,
 "nbformat_minor": 2
}
